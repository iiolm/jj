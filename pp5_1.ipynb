{
  "nbformat": 4,
  "nbformat_minor": 0,
  "metadata": {
    "colab": {
      "provenance": [],
      "authorship_tag": "ABX9TyMhA/Tz2dFGGRA0pDsFBZRa",
      "include_colab_link": true
    },
    "kernelspec": {
      "name": "python3",
      "display_name": "Python 3"
    },
    "language_info": {
      "name": "python"
    }
  },
  "cells": [
    {
      "cell_type": "markdown",
      "metadata": {
        "id": "view-in-github",
        "colab_type": "text"
      },
      "source": [
        "<a href=\"https://colab.research.google.com/github/iiolm/jj/blob/main/pp5_1.ipynb\" target=\"_parent\"><img src=\"https://colab.research.google.com/assets/colab-badge.svg\" alt=\"Open In Colab\"/></a>"
      ]
    },
    {
      "cell_type": "code",
      "execution_count": 9,
      "metadata": {
        "colab": {
          "base_uri": "https://localhost:8080/"
        },
        "id": "lqSWKrTDnS78",
        "outputId": "57ab202d-7fd3-4605-bc6e-ce58791277ce"
      },
      "outputs": [
        {
          "output_type": "stream",
          "name": "stdout",
          "text": [
            "--------------------\n",
            "  섭씨    화씨\n",
            "--------------------\n",
            " -20  -4.00\n",
            " -15  5.00\n",
            " -10  14.00\n",
            "  -5  23.00\n",
            "   0  32.00\n",
            "   5  41.00\n",
            "  10  50.00\n",
            "  15  59.00\n",
            "  20  68.00\n",
            "  25  77.00\n",
            "  30  86.00\n"
          ]
        }
      ],
      "source": [
        "'''단위 환산표\n",
        "화씨 = 섭씨 * 9/5 + 32'''\n",
        "print('-'*20)\n",
        "print('  섭씨    화씨')\n",
        "print('-'*20)\n",
        "\n",
        "for x in range(-20, 31, 5):\n",
        "  f = x*9/5 +32\n",
        "  print('%4d  %4.2f' %(x, f))"
      ]
    },
    {
      "cell_type": "code",
      "source": [
        "'''합계\n",
        "입력 => 5의 배수 아닌 수'''\n",
        "num1 = int(input('숫자1 입력: '))\n",
        "num2 = int(input('숫자2 입력: '))\n",
        "\n",
        "sum = 0\n",
        "for x in range(num1, num2+1):\n",
        "  if x%5 != 0:\n",
        "    sum += x\n",
        "print('%d~%d 5의 배수 아닌 수 합: %d' %(num1, num2, sum))"
      ],
      "metadata": {
        "colab": {
          "base_uri": "https://localhost:8080/"
        },
        "id": "t7qTNJrc3SHz",
        "outputId": "007330f1-f319-473d-a9f3-98527df94604"
      },
      "execution_count": 10,
      "outputs": [
        {
          "output_type": "stream",
          "name": "stdout",
          "text": [
            "숫자1 입력: 1000\n",
            "숫자2 입력: 2000\n",
            "1000~2000 5의 배수 아닌 수 합: 1200000\n"
          ]
        }
      ]
    },
    {
      "cell_type": "code",
      "source": [
        "'''phone number hyphen\n",
        "삭제'''\n",
        "num = input('하이픈(-)을 포함한 전화번호 입력: ')\n",
        "for x in num:\n",
        "  if x!='-':\n",
        "    print('%s'%x, end=\"\")"
      ],
      "metadata": {
        "colab": {
          "base_uri": "https://localhost:8080/"
        },
        "id": "VJIyt7O-4Ypv",
        "outputId": "139b49e7-b973-4e09-a4eb-cdb86a7fc0c8"
      },
      "execution_count": 13,
      "outputs": [
        {
          "output_type": "stream",
          "name": "stdout",
          "text": [
            "하이픈(-)을 포함한 전화번호 입력: 010-0000-0000\n",
            "01000000000"
          ]
        }
      ]
    },
    {
      "cell_type": "code",
      "source": [
        "'''phone number hyphen\n",
        "추가'''\n",
        "num = input('하이픈 제외(-) 전화번호 입력: ')\n",
        "result = '';\n",
        "for x in range(0, len(num)):\n",
        "  if x==2:\n",
        "    result = result + (num[2]+'-')\n",
        "  elif x==6:\n",
        "    result = result + (num[6]+'-')\n",
        "  else:\n",
        "    result = result + num[x]\n",
        "\n",
        "print('result : %s'%result)"
      ],
      "metadata": {
        "colab": {
          "base_uri": "https://localhost:8080/"
        },
        "id": "MlcIoiRl5QfC",
        "outputId": "06841840-d301-4130-e23c-d1c7dda72e92"
      },
      "execution_count": 19,
      "outputs": [
        {
          "output_type": "stream",
          "name": "stdout",
          "text": [
            "하이픈 제외(-) 전화번호 입력: 01012341234\n",
            "result : 010-1234-1234\n"
          ]
        }
      ]
    }
  ]
}